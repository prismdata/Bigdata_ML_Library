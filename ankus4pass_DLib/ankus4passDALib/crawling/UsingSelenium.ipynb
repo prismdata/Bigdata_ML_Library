{
 "cells": [
  {
   "cell_type": "code",
   "execution_count": 48,
   "metadata": {},
   "outputs": [
    {
     "name": "stderr",
     "output_type": "stream",
     "text": [
      "/Users/prismdata/Documents/ankus_analyzer_p_workspace/Bigdata_ML_Library/ankus4pass_DLib/ankus4pass_env_py2/lib/python2.7/site-packages/ipykernel_launcher.py:8: DeprecationWarning: use options instead of chrome_options\n",
      "  \n"
     ]
    }
   ],
   "source": [
    "from selenium import webdriver\n",
    "\n",
    "options = webdriver.ChromeOptions()\n",
    "options.add_argument('headless')\n",
    "options.add_argument(\"disable-gpu\")\n",
    "options.add_argument(\"user-agent=Mozilla/5.0 (Macintosh; Intel Mac OS X 10_12_6) AppleWebKit/537.36 (KHTML, like Gecko) Chrome/61.0.3163.100 Safari/537.36\")\n",
    "\n",
    "driver = webdriver.Chrome('/Users/prismdata/Documents/ankus_analyzer_p_workspace/Bigdata_ML_Library/ankus4pass_DLib/chromedriver',chrome_options=options)\n",
    "driver.implicitly_wait(3)"
   ]
  },
  {
   "cell_type": "code",
   "execution_count": 49,
   "metadata": {},
   "outputs": [],
   "source": [
    "driver.get('https://section.blog.naver.com/Search/Post.nhn?pageNo=1&rangeType=ALL&orderBy=sim&keyword=%EB%B0%B1%EC%88%98%EC%98%A4')"
   ]
  },
  {
   "cell_type": "code",
   "execution_count": 50,
   "metadata": {},
   "outputs": [],
   "source": [
    "html = driver.page_source \n",
    "driver.close()"
   ]
  },
  {
   "cell_type": "code",
   "execution_count": 51,
   "metadata": {},
   "outputs": [],
   "source": [
    "from bs4 import BeautifulSoup\n",
    "soup = BeautifulSoup(html, 'html.parser')"
   ]
  },
  {
   "cell_type": "code",
   "execution_count": 52,
   "metadata": {},
   "outputs": [],
   "source": [
    "href_list = soup.select('#content > section > div.area_list_search > div:nth-child(1) > div > div.info_post > div')"
   ]
  },
  {
   "cell_type": "code",
   "execution_count": 53,
   "metadata": {},
   "outputs": [
    {
     "name": "stdout",
     "output_type": "stream",
     "text": [
      "<div class=\"desc\">\n",
      "<a bg-nclick=\"srs*l.text\" class=\"desc_inner\" href=\"https://blog.naver.com/csm0227sm/221533017245\" ng-href=\"https://blog.naver.com/csm0227sm/221533017245\" target=\"_blank\">\n",
      "<strong class=\"title_post\">\n",
      "<span class=\"title\" ng-bind-html=\"post.title\">여성갱년기영양제 추천 옆에서 지켜보니 <strong class=\"search_keyword\">백수오</strong>궁 정답!</span>\n",
      "<span class=\"date\">2019. 5. 9.</span>\n",
      "</strong>\n",
      "</a><!-- ngIf: post.contents --><a bg-nclick=\"srs*l.text\" class=\"text\" href=\"https://blog.naver.com/csm0227sm/221533017245\" ng-bind-html=\"post.contents\" ng-href=\"https://blog.naver.com/csm0227sm/221533017245\" ng-if=\"post.contents\" target=\"_blank\">추천받아 <strong class=\"search_keyword\">백수오</strong>궁을 챙겨드시고 계신다고 하셨었어요 일을 하고 있는 딸 도와주시겠다며 아이들을 돌봐주는 것뿐만 아니라 집에 돌아오면 배고픈 사위와 딸을 위해서 집 밥을 근사하게 차려놓기도 하시고.. 본인 몸이 힘드셔도 힘내서 두 집 살림 거뜬하게 할 수 있었던 건 <strong class=\"search_keyword\">백수오</strong>궁이 도움이... </a><!-- end ngIf: post.contents -->\n",
      "</div>\n"
     ]
    }
   ],
   "source": [
    "for href in href_list:\n",
    "    print(href)"
   ]
  },
  {
   "cell_type": "code",
   "execution_count": null,
   "metadata": {},
   "outputs": [],
   "source": []
  }
 ],
 "metadata": {
  "kernelspec": {
   "display_name": "Python 2",
   "language": "python",
   "name": "python2"
  },
  "language_info": {
   "codemirror_mode": {
    "name": "ipython",
    "version": 2
   },
   "file_extension": ".py",
   "mimetype": "text/x-python",
   "name": "python",
   "nbconvert_exporter": "python",
   "pygments_lexer": "ipython2",
   "version": "2.7.10"
  }
 },
 "nbformat": 4,
 "nbformat_minor": 2
}
